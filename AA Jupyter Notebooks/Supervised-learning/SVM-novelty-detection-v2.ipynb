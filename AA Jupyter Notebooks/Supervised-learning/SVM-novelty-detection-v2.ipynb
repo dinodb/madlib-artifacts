{
 "cells": [
  {
   "cell_type": "markdown",
   "metadata": {},
   "source": [
    "# Novelty detection using 1-class SVM\n",
    "\n",
    "Classifies new data as similar or different to the training set.  This method is an unsupervised method that builds a decision boundary between the data and origin in kernel space and can be used as a novelty detector."
   ]
  },
  {
   "cell_type": "code",
   "execution_count": 1,
   "metadata": {},
   "outputs": [
    {
     "name": "stderr",
     "output_type": "stream",
     "text": [
      "/Users/fmcquillan/anaconda/lib/python2.7/site-packages/IPython/config.py:13: ShimWarning: The `IPython.config` package has been deprecated. You should import from traitlets.config instead.\n",
      "  \"You should import from traitlets.config instead.\", ShimWarning)\n",
      "/Users/fmcquillan/anaconda/lib/python2.7/site-packages/IPython/utils/traitlets.py:5: UserWarning: IPython.utils.traitlets has moved to a top-level traitlets package.\n",
      "  warn(\"IPython.utils.traitlets has moved to a top-level traitlets package.\")\n"
     ]
    }
   ],
   "source": [
    "%load_ext sql"
   ]
  },
  {
   "cell_type": "code",
   "execution_count": 2,
   "metadata": {},
   "outputs": [
    {
     "data": {
      "text/plain": [
       "u'Connected: gpadmin@madlib'"
      ]
     },
     "execution_count": 2,
     "metadata": {},
     "output_type": "execute_result"
    }
   ],
   "source": [
    "# Greenplum Database 5.4.0 on GCP (demo machine)\n",
    "%sql postgresql://gpadmin@35.184.253.255:5432/madlib\n",
    "        \n",
    "# PostgreSQL local\n",
    "#%sql postgresql://fmcquillan@localhost:5432/madlib\n",
    "\n",
    "# Greenplum Database 4.3.10.0\n",
    "#%sql postgresql://gpdbchina@10.194.10.68:61000/madlib"
   ]
  },
  {
   "cell_type": "code",
   "execution_count": 3,
   "metadata": {
    "collapsed": true
   },
   "outputs": [],
   "source": [
    "# Setup\n",
    "%matplotlib inline\n",
    "\n",
    "import pandas as pd\n",
    "import numpy as np\n",
    "import matplotlib.pyplot as plt\n",
    "import matplotlib.font_manager"
   ]
  },
  {
   "cell_type": "code",
   "execution_count": 4,
   "metadata": {},
   "outputs": [
    {
     "data": {
      "image/png": "[encoded data removed]",
      "text/plain": [
       "<matplotlib.figure.Figure at 0x109749490>"
      ]
     },
     "metadata": {},
     "output_type": "display_data"
    }
   ],
   "source": [
    "# Generate train data\n",
    "X = 0.3 * np.random.randn(100, 2)\n",
    "X_train = np.r_[X + 2, X - 2]\n",
    "X_train_D = pd.DataFrame(X_train, columns=['x1', 'x2'])\n",
    "\n",
    "# Generate some abnormal novel observations\n",
    "X_outliers = np.random.uniform(low=-7, high=7, size=(40, 2))\n",
    "X_outliers_D = pd.DataFrame(X_outliers, columns=['x1', 'x2'])\n",
    "\n",
    "b = plt.scatter(X_train[:, 0], X_train[:, 1], c='blue')\n",
    "c = plt.scatter(X_outliers[:, 0], X_outliers[:, 1], c='red')\n",
    "plt.axis('tight')\n",
    "plt.xlim((-5, 5))\n",
    "plt.ylim((-5, 5))\n",
    "plt.show()"
   ]
  },
  {
   "cell_type": "code",
   "execution_count": 5,
   "metadata": {},
   "outputs": [
    {
     "name": "stdout",
     "output_type": "stream",
     "text": [
      "Done.\n",
      "Done.\n",
      "200 rows affected.\n",
      "Done.\n",
      "Done.\n",
      "40 rows affected.\n"
     ]
    },
    {
     "data": {
      "text/plain": [
       "[]"
      ]
     },
     "execution_count": 5,
     "metadata": {},
     "output_type": "execute_result"
    }
   ],
   "source": [
    "# Build tables\n",
    "%sql DROP TABLE IF EXISTS X_train_D CASCADE\n",
    "%sql PERSIST X_train_D\n",
    "%sql ALTER TABLE X_train_D add column X float[]\n",
    "%sql update X_train_D set X = array[x1, x2]::float[]\n",
    "\n",
    "%sql DROP TABLE IF EXISTS X_outliers_D CASCADE\n",
    "%sql PERSIST X_outliers_D\n",
    "%sql ALTER TABLE X_outliers_D add column X float[]\n",
    "%sql update X_outliers_D set X = array[x1, x2]::float[]"
   ]
  },
  {
   "cell_type": "code",
   "execution_count": 6,
   "metadata": {},
   "outputs": [
    {
     "name": "stdout",
     "output_type": "stream",
     "text": [
      "Done.\n",
      "1 rows affected.\n",
      "1 rows affected.\n"
     ]
    },
    {
     "data": {
      "text/html": [
       "<table>\n",
       "    <tr>\n",
       "        <th>coef</th>\n",
       "        <th>loss</th>\n",
       "        <th>norm_of_gradient</th>\n",
       "        <th>num_iterations</th>\n",
       "        <th>num_rows_processed</th>\n",
       "        <th>num_rows_skipped</th>\n",
       "        <th>dep_var_mapping</th>\n",
       "    </tr>\n",
       "    <tr>\n",
       "        <td>[-0.0432454845758051, -0.159444816692118, -0.737806938475955, 0.0534370865459891, -0.302783984437678, 0.216663708966247, 0.413951840077392, -0.624686692573685, 0.383245902283947, -0.93194741477619, 0.398359325873191, -0.106725591800195, -0.149623841552614, -0.0586264154241909, -0.0712714894313125, -0.752820609462399, -0.0387893518368972, -0.902369710478552, -0.559534808391375, -0.525734075427885, -0.125932502169152, -0.159125403795632, -0.554052542709238, -0.295316988845407, -0.343813368149046, -0.144503832215855, 0.372471877108083, 0.482314750223444, 0.43941447611859, -0.251685614368991, -0.167096578461358, 0.33496817207315, -0.0951761758107272, 0.617859995418938, 0.481179708913367, 0.425753691404979, 0.142601387350667, -0.0702737675277522, -0.625499347350069, -0.10838092278605, 0.659909999982923, 0.189460860381574, 0.560772005661166, 0.637457997296956, 0.142566086425306, 0.307329400451873, -0.0570729145059836, 0.0923408623395759, 0.673831714495205, 0.745802707398761, -0.12887594773649, -0.226376229070672, 0.358019840034591, -0.285312281448689, -0.4181210434903, -1.00005186868902]</td>\n",
       "        <td>0.115298833215</td>\n",
       "        <td>114.886308162</td>\n",
       "        <td>100</td>\n",
       "        <td>201</td>\n",
       "        <td>-1</td>\n",
       "        <td>[-1.0, 1.0]</td>\n",
       "    </tr>\n",
       "</table>"
      ],
      "text/plain": [
       "[([-0.0432454845758051, -0.159444816692118, -0.737806938475955, 0.0534370865459891, -0.302783984437678, 0.216663708966247, 0.413951840077392, -0.624686692573685, 0.383245902283947, -0.93194741477619, 0.398359325873191, -0.106725591800195, -0.149623841552614, -0.0586264154241909, -0.0712714894313125, -0.752820609462399, -0.0387893518368972, -0.902369710478552, -0.559534808391375, -0.525734075427885, -0.125932502169152, -0.159125403795632, -0.554052542709238, -0.295316988845407, -0.343813368149046, -0.144503832215855, 0.372471877108083, 0.482314750223444, 0.43941447611859, -0.251685614368991, -0.167096578461358, 0.33496817207315, -0.0951761758107272, 0.617859995418938, 0.481179708913367, 0.425753691404979, 0.142601387350667, -0.0702737675277522, -0.625499347350069, -0.10838092278605, 0.659909999982923, 0.189460860381574, 0.560772005661166, 0.637457997296956, 0.142566086425306, 0.307329400451873, -0.0570729145059836, 0.0923408623395759, 0.673831714495205, 0.745802707398761, -0.12887594773649, -0.226376229070672, 0.358019840034591, -0.285312281448689, -0.4181210434903, -1.00005186868902], 0.115298833215421, 114.886308161636, 100, 201L, -1L, [-1.0, 1.0])]"
      ]
     },
     "execution_count": 6,
     "metadata": {},
     "output_type": "execute_result"
    }
   ],
   "source": [
    "%%sql \n",
    "-- Train the model\n",
    "DROP TABLE IF EXISTS svm_out1, svm_out1_summary, svm_out1_random CASCADE;\n",
    "SELECT madlib.svm_one_class(\n",
    "    'X_train_D',    -- source table\n",
    "    'svm_out1',     -- output table\n",
    "    'X',            -- features\n",
    "    'gaussian',     -- kernel\n",
    "    'gamma=1, n_components=55, random_state=3', \n",
    "    NULL,           -- grouping \n",
    "    'init_stepsize=0.1, lambda=10, max_iter=100, tolerance=0'  \n",
    "    );\n",
    "SELECT * FROM svm_out1; "
   ]
  },
  {
   "cell_type": "code",
   "execution_count": 8,
   "metadata": {},
   "outputs": [
    {
     "name": "stdout",
     "output_type": "stream",
     "text": [
      "Done.\n",
      "1 rows affected.\n",
      "200 rows affected.\n",
      "Done.\n",
      "1 rows affected.\n",
      "40 rows affected.\n",
      "20 rows affected.\n"
     ]
    },
    {
     "data": {
      "text/html": [
       "<table>\n",
       "    <tr>\n",
       "        <th>index</th>\n",
       "        <th>prediction</th>\n",
       "        <th>decision_function</th>\n",
       "    </tr>\n",
       "    <tr>\n",
       "        <td>3</td>\n",
       "        <td>1.0</td>\n",
       "        <td>0.915642435444</td>\n",
       "    </tr>\n",
       "    <tr>\n",
       "        <td>11</td>\n",
       "        <td>1.0</td>\n",
       "        <td>0.977872869017</td>\n",
       "    </tr>\n",
       "    <tr>\n",
       "        <td>19</td>\n",
       "        <td>1.0</td>\n",
       "        <td>1.0855373153</td>\n",
       "    </tr>\n",
       "    <tr>\n",
       "        <td>27</td>\n",
       "        <td>1.0</td>\n",
       "        <td>0.79941793621</td>\n",
       "    </tr>\n",
       "    <tr>\n",
       "        <td>35</td>\n",
       "        <td>1.0</td>\n",
       "        <td>0.733618196408</td>\n",
       "    </tr>\n",
       "    <tr>\n",
       "        <td>43</td>\n",
       "        <td>1.0</td>\n",
       "        <td>0.837947132017</td>\n",
       "    </tr>\n",
       "    <tr>\n",
       "        <td>51</td>\n",
       "        <td>1.0</td>\n",
       "        <td>0.972880103728</td>\n",
       "    </tr>\n",
       "    <tr>\n",
       "        <td>59</td>\n",
       "        <td>1.0</td>\n",
       "        <td>0.694748057993</td>\n",
       "    </tr>\n",
       "    <tr>\n",
       "        <td>1</td>\n",
       "        <td>1.0</td>\n",
       "        <td>1.10798285659</td>\n",
       "    </tr>\n",
       "    <tr>\n",
       "        <td>9</td>\n",
       "        <td>1.0</td>\n",
       "        <td>0.951860111855</td>\n",
       "    </tr>\n",
       "    <tr>\n",
       "        <td>17</td>\n",
       "        <td>1.0</td>\n",
       "        <td>1.15980904553</td>\n",
       "    </tr>\n",
       "    <tr>\n",
       "        <td>25</td>\n",
       "        <td>1.0</td>\n",
       "        <td>1.04124250042</td>\n",
       "    </tr>\n",
       "    <tr>\n",
       "        <td>33</td>\n",
       "        <td>1.0</td>\n",
       "        <td>1.14540908258</td>\n",
       "    </tr>\n",
       "    <tr>\n",
       "        <td>41</td>\n",
       "        <td>1.0</td>\n",
       "        <td>1.15308103579</td>\n",
       "    </tr>\n",
       "    <tr>\n",
       "        <td>49</td>\n",
       "        <td>1.0</td>\n",
       "        <td>0.88082676775</td>\n",
       "    </tr>\n",
       "    <tr>\n",
       "        <td>57</td>\n",
       "        <td>1.0</td>\n",
       "        <td>1.03673395362</td>\n",
       "    </tr>\n",
       "    <tr>\n",
       "        <td>2</td>\n",
       "        <td>1.0</td>\n",
       "        <td>0.575998016748</td>\n",
       "    </tr>\n",
       "    <tr>\n",
       "        <td>10</td>\n",
       "        <td>1.0</td>\n",
       "        <td>0.582246638053</td>\n",
       "    </tr>\n",
       "    <tr>\n",
       "        <td>18</td>\n",
       "        <td>1.0</td>\n",
       "        <td>0.883625378662</td>\n",
       "    </tr>\n",
       "    <tr>\n",
       "        <td>26</td>\n",
       "        <td>1.0</td>\n",
       "        <td>0.659992076181</td>\n",
       "    </tr>\n",
       "</table>"
      ],
      "text/plain": [
       "[(3L, 1.0, 0.9156424354437),\n",
       " (11L, 1.0, 0.977872869016699),\n",
       " (19L, 1.0, 1.08553731530472),\n",
       " (27L, 1.0, 0.799417936209621),\n",
       " (35L, 1.0, 0.733618196407722),\n",
       " (43L, 1.0, 0.837947132016513),\n",
       " (51L, 1.0, 0.972880103727547),\n",
       " (59L, 1.0, 0.694748057993407),\n",
       " (1L, 1.0, 1.10798285659429),\n",
       " (9L, 1.0, 0.95186011185464),\n",
       " (17L, 1.0, 1.15980904553282),\n",
       " (25L, 1.0, 1.04124250041991),\n",
       " (33L, 1.0, 1.1454090825827),\n",
       " (41L, 1.0, 1.15308103579249),\n",
       " (49L, 1.0, 0.880826767750115),\n",
       " (57L, 1.0, 1.03673395362435),\n",
       " (2L, 1.0, 0.575998016748392),\n",
       " (10L, 1.0, 0.58224663805317),\n",
       " (18L, 1.0, 0.88362537866157),\n",
       " (26L, 1.0, 0.659992076181318)]"
      ]
     },
     "execution_count": 8,
     "metadata": {},
     "output_type": "execute_result"
    }
   ],
   "source": [
    "# Prediction\n",
    "# First for the training data\n",
    "%sql drop table if exists y_pred_train;\n",
    "%sql SELECT madlib.svm_predict('svm_out1', 'X_train_D', 'index', 'y_pred_train');\n",
    "y_pred_train = %sql SELECT * from y_pred_train; \n",
    "\n",
    "# Next for the outliers\n",
    "%sql drop table if exists y_pred_outliers;\n",
    "%sql SELECT madlib.svm_predict('svm_out1', 'X_outliers_D', 'index', 'y_pred_outliers');\n",
    "y_pred_outliers = %sql SELECT * from y_pred_outliers; \n",
    "\n",
    "#%sql SELECT * FROM y_pred_outliers limit 20; -- Show the outliers\n",
    "%sql SELECT * FROM y_pred_train limit 20; -- Show the training data"
   ]
  },
  {
   "cell_type": "code",
   "execution_count": 9,
   "metadata": {},
   "outputs": [
    {
     "name": "stdout",
     "output_type": "stream",
     "text": [
      "Done.\n",
      "Done.\n",
      "10000 rows affected.\n"
     ]
    },
    {
     "data": {
      "text/plain": [
       "[]"
      ]
     },
     "execution_count": 9,
     "metadata": {},
     "output_type": "execute_result"
    }
   ],
   "source": [
    "# Predict over the decision grid for plotting\n",
    "# xx, yy = np.meshgrid(np.linspace(-7, 7, 500), np.linspace(-7, 7, 500))\n",
    "xx, yy = np.meshgrid(np.linspace(-7, 7, 100), np.linspace(-7, 7, 100))\n",
    "grid_points = pd.DataFrame(np.c_[xx.ravel(), yy.ravel()], columns=['x1', 'x2'])\n",
    "\n",
    "%sql DROP TABLE IF EXISTS grid_points CASCADE\n",
    "%sql PERSIST grid_points\n",
    "%sql ALTER TABLE grid_points add column X float[]\n",
    "%sql update grid_points set X = array[x1, x2]::float[]"
   ]
  },
  {
   "cell_type": "code",
   "execution_count": 10,
   "metadata": {},
   "outputs": [
    {
     "name": "stdout",
     "output_type": "stream",
     "text": [
      "Done.\n",
      "1 rows affected.\n",
      "10000 rows affected.\n"
     ]
    },
    {
     "name": "stderr",
     "output_type": "stream",
     "text": [
      "/Users/fmcquillan/anaconda/lib/python2.7/site-packages/numpy/ma/core.py:6442: MaskedArrayFutureWarning: In the future the default for ma.maximum.reduce will be axis=0, not the current None, to match np.maximum.reduce. Explicitly pass 0 or None to silence this warning.\n",
      "  return self.reduce(a)\n",
      "/Users/fmcquillan/anaconda/lib/python2.7/site-packages/numpy/ma/core.py:6442: MaskedArrayFutureWarning: In the future the default for ma.minimum.reduce will be axis=0, not the current None, to match np.minimum.reduce. Explicitly pass 0 or None to silence this warning.\n",
      "  return self.reduce(a)\n"
     ]
    },
    {
     "data": {
      "image/png": "[encoded data removed]",
      "text/plain": [
       "<matplotlib.figure.Figure at 0x109871950>"
      ]
     },
     "metadata": {},
     "output_type": "display_data"
    }
   ],
   "source": [
    "# Plot the decision grid\n",
    "%sql drop table if exists Z_D;\n",
    "%sql SELECT madlib.svm_predict('svm_out1', 'grid_points', 'index', 'Z_D');\n",
    "Z_D = %sql SELECT decision_function from Z_D order by index\n",
    "Z = np.array(Z_D)\n",
    "Z = Z.reshape(xx.shape)\n",
    "\n",
    "# Orange is not novel, green is novel\n",
    "plt.title(\"Novelty Detection\")\n",
    "plt.contourf(xx, yy, Z, levels=[0, Z.max()], colors='orange')\n",
    "plt.contourf(xx, yy, Z, levels=[Z.min(), 0], colors='green')\n",
    "#plt.contourf(xx, yy, Z, levels=np.linspace(Z.min(), Z.max(), 7), cmap=plt.cm.Blues_r)\n",
    "b1 = plt.scatter(X_train[:, 0], X_train[:, 1], c='blue')\n",
    "c = plt.scatter(X_outliers[:, 0], X_outliers[:, 1], c='red')\n",
    "plt.axis('tight')\n",
    "plt.xlim((-5, 5))\n",
    "plt.ylim((-5, 5))\n",
    "plt.show()"
   ]
  },
  {
   "cell_type": "code",
   "execution_count": null,
   "metadata": {
    "collapsed": true
   },
   "outputs": [],
   "source": []
  }
 ],
 "metadata": {
  "kernelspec": {
   "display_name": "Python 2",
   "language": "python",
   "name": "python2"
  },
  "language_info": {
   "codemirror_mode": {
    "name": "ipython",
    "version": 2
   },
   "file_extension": ".py",
   "mimetype": "text/x-python",
   "name": "python",
   "nbconvert_exporter": "python",
   "pygments_lexer": "ipython2",
   "version": "2.7.12"
  }
 },
 "nbformat": 4,
 "nbformat_minor": 1
}
